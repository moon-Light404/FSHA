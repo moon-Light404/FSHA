{
 "cells": [
  {
   "cell_type": "code",
   "execution_count": 33,
   "metadata": {},
   "outputs": [],
   "source": [
    "import torch\n",
    "f_s = torch.tensor([[1, 2, 3, 4],\n",
    "                    [5, 6, 7, 8],\n",
    "                    [9, 10, 11, 12]], dtype=torch.float)\n",
    "\n",
    "f_t = torch.tensor([[1, 5, 3, 4],\n",
    "                    [5, 6, 6, 8],\n",
    "                    [9, 12, 11, 12]], dtype=torch.float)"
   ]
  },
  {
   "cell_type": "code",
   "execution_count": 34,
   "metadata": {},
   "outputs": [
    {
     "name": "stdout",
     "output_type": "stream",
     "text": [
      "tensor([[5., 6., 7., 8.]])\n",
      "tensor([[-4., -4., -4., -4.],\n",
      "        [ 0.,  0.,  0.,  0.],\n",
      "        [ 4.,  4.,  4.,  4.]])\n"
     ]
    }
   ],
   "source": [
    "mean_s = f_s.mean(dim=0, keepdim=True)\n",
    "cent_s = f_s - mean_s\n",
    "mean_t = f_t.mean(dim=0, keepdim=True)\n",
    "cnet_t = f_t - mean_t\n",
    "print(mean_s)\n",
    "print(cent_s)"
   ]
  },
  {
   "cell_type": "code",
   "execution_count": 35,
   "metadata": {},
   "outputs": [],
   "source": [
    "conv_s = torch.mm(cent_s.t(), cent_s) / (len(f_s) - 1)\n",
    "conv_t = torch.mm(cnet_t.t(), cnet_t) / (len(f_t) - 1)"
   ]
  },
  {
   "cell_type": "code",
   "execution_count": 36,
   "metadata": {},
   "outputs": [],
   "source": [
    "mean_diff = (mean_s - mean_t).pow(2).mean()\n",
    "conv_diff = (conv_s - conv_t).pow(2).mean()\n"
   ]
  },
  {
   "cell_type": "code",
   "execution_count": 37,
   "metadata": {},
   "outputs": [
    {
     "name": "stdout",
     "output_type": "stream",
     "text": [
      "tensor(0.7222)\n",
      "tensor(1.3507)\n"
     ]
    }
   ],
   "source": [
    "print(mean_diff)\n",
    "print(conv_diff)"
   ]
  }
 ],
 "metadata": {
  "kernelspec": {
   "display_name": "base",
   "language": "python",
   "name": "python3"
  },
  "language_info": {
   "codemirror_mode": {
    "name": "ipython",
    "version": 3
   },
   "file_extension": ".py",
   "mimetype": "text/x-python",
   "name": "python",
   "nbconvert_exporter": "python",
   "pygments_lexer": "ipython3",
   "version": "3.10.14"
  }
 },
 "nbformat": 4,
 "nbformat_minor": 2
}
